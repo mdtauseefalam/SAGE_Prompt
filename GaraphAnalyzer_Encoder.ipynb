{
  "nbformat": 4,
  "nbformat_minor": 0,
  "metadata": {
    "colab": {
      "provenance": []
    },
    "kernelspec": {
      "name": "python3",
      "display_name": "Python 3"
    },
    "language_info": {
      "name": "python"
    }
  },
  "cells": [
    {
      "cell_type": "code",
      "execution_count": null,
      "metadata": {
        "id": "tQcK0_gFwJm3"
      },
      "outputs": [],
      "source": [
        "#STEP 1: Install Slither (and dependencies)\n",
        "\n",
        "!pip install solc-select"
      ]
    },
    {
      "cell_type": "code",
      "source": [
        "!pip install slither-analyzer"
      ],
      "metadata": {
        "id": "sFuiks_vwVbL"
      },
      "execution_count": null,
      "outputs": []
    },
    {
      "cell_type": "code",
      "source": [
        "import re\n",
        "\n",
        "def extract_solidity_version(file_path):\n",
        "    try:\n",
        "        with open(file_path, 'r') as file:\n",
        "            content = file.read()\n",
        "\n",
        "        # Look for the first version number in the pragma line\n",
        "        match = re.search(r'pragma\\s+solidity\\s+[^;]*?(\\d+\\.\\d+\\.\\d+)', content)\n",
        "        if match:\n",
        "            version = match.group(1)\n",
        "            print(f\"{version}\")\n",
        "            return version\n",
        "        else:\n",
        "            print(\"No Solidity version found.\")\n",
        "            return None\n",
        "    except Exception as e:\n",
        "        print(f\"Error: {e}\")\n",
        "        return None\n"
      ],
      "metadata": {
        "id": "LfE94hQgpfbO"
      },
      "execution_count": null,
      "outputs": []
    },
    {
      "cell_type": "code",
      "source": [
        "#STEP 2: Upload Solidity file\n",
        "from google.colab import files\n",
        "uploaded = files.upload()"
      ],
      "metadata": {
        "colab": {
          "base_uri": "https://localhost:8080/",
          "height": 74
        },
        "id": "he9cF-maprI_",
        "outputId": "5926ce80-ca32-4815-df94-22f231d5aebd"
      },
      "execution_count": null,
      "outputs": [
        {
          "output_type": "display_data",
          "data": {
            "text/plain": [
              "<IPython.core.display.HTML object>"
            ],
            "text/html": [
              "\n",
              "     <input type=\"file\" id=\"files-85ef4b09-4f3a-4ac6-9199-cf3942028b9a\" name=\"files[]\" multiple disabled\n",
              "        style=\"border:none\" />\n",
              "     <output id=\"result-85ef4b09-4f3a-4ac6-9199-cf3942028b9a\">\n",
              "      Upload widget is only available when the cell has been executed in the\n",
              "      current browser session. Please rerun this cell to enable.\n",
              "      </output>\n",
              "      <script>// Copyright 2017 Google LLC\n",
              "//\n",
              "// Licensed under the Apache License, Version 2.0 (the \"License\");\n",
              "// you may not use this file except in compliance with the License.\n",
              "// You may obtain a copy of the License at\n",
              "//\n",
              "//      http://www.apache.org/licenses/LICENSE-2.0\n",
              "//\n",
              "// Unless required by applicable law or agreed to in writing, software\n",
              "// distributed under the License is distributed on an \"AS IS\" BASIS,\n",
              "// WITHOUT WARRANTIES OR CONDITIONS OF ANY KIND, either express or implied.\n",
              "// See the License for the specific language governing permissions and\n",
              "// limitations under the License.\n",
              "\n",
              "/**\n",
              " * @fileoverview Helpers for google.colab Python module.\n",
              " */\n",
              "(function(scope) {\n",
              "function span(text, styleAttributes = {}) {\n",
              "  const element = document.createElement('span');\n",
              "  element.textContent = text;\n",
              "  for (const key of Object.keys(styleAttributes)) {\n",
              "    element.style[key] = styleAttributes[key];\n",
              "  }\n",
              "  return element;\n",
              "}\n",
              "\n",
              "// Max number of bytes which will be uploaded at a time.\n",
              "const MAX_PAYLOAD_SIZE = 100 * 1024;\n",
              "\n",
              "function _uploadFiles(inputId, outputId) {\n",
              "  const steps = uploadFilesStep(inputId, outputId);\n",
              "  const outputElement = document.getElementById(outputId);\n",
              "  // Cache steps on the outputElement to make it available for the next call\n",
              "  // to uploadFilesContinue from Python.\n",
              "  outputElement.steps = steps;\n",
              "\n",
              "  return _uploadFilesContinue(outputId);\n",
              "}\n",
              "\n",
              "// This is roughly an async generator (not supported in the browser yet),\n",
              "// where there are multiple asynchronous steps and the Python side is going\n",
              "// to poll for completion of each step.\n",
              "// This uses a Promise to block the python side on completion of each step,\n",
              "// then passes the result of the previous step as the input to the next step.\n",
              "function _uploadFilesContinue(outputId) {\n",
              "  const outputElement = document.getElementById(outputId);\n",
              "  const steps = outputElement.steps;\n",
              "\n",
              "  const next = steps.next(outputElement.lastPromiseValue);\n",
              "  return Promise.resolve(next.value.promise).then((value) => {\n",
              "    // Cache the last promise value to make it available to the next\n",
              "    // step of the generator.\n",
              "    outputElement.lastPromiseValue = value;\n",
              "    return next.value.response;\n",
              "  });\n",
              "}\n",
              "\n",
              "/**\n",
              " * Generator function which is called between each async step of the upload\n",
              " * process.\n",
              " * @param {string} inputId Element ID of the input file picker element.\n",
              " * @param {string} outputId Element ID of the output display.\n",
              " * @return {!Iterable<!Object>} Iterable of next steps.\n",
              " */\n",
              "function* uploadFilesStep(inputId, outputId) {\n",
              "  const inputElement = document.getElementById(inputId);\n",
              "  inputElement.disabled = false;\n",
              "\n",
              "  const outputElement = document.getElementById(outputId);\n",
              "  outputElement.innerHTML = '';\n",
              "\n",
              "  const pickedPromise = new Promise((resolve) => {\n",
              "    inputElement.addEventListener('change', (e) => {\n",
              "      resolve(e.target.files);\n",
              "    });\n",
              "  });\n",
              "\n",
              "  const cancel = document.createElement('button');\n",
              "  inputElement.parentElement.appendChild(cancel);\n",
              "  cancel.textContent = 'Cancel upload';\n",
              "  const cancelPromise = new Promise((resolve) => {\n",
              "    cancel.onclick = () => {\n",
              "      resolve(null);\n",
              "    };\n",
              "  });\n",
              "\n",
              "  // Wait for the user to pick the files.\n",
              "  const files = yield {\n",
              "    promise: Promise.race([pickedPromise, cancelPromise]),\n",
              "    response: {\n",
              "      action: 'starting',\n",
              "    }\n",
              "  };\n",
              "\n",
              "  cancel.remove();\n",
              "\n",
              "  // Disable the input element since further picks are not allowed.\n",
              "  inputElement.disabled = true;\n",
              "\n",
              "  if (!files) {\n",
              "    return {\n",
              "      response: {\n",
              "        action: 'complete',\n",
              "      }\n",
              "    };\n",
              "  }\n",
              "\n",
              "  for (const file of files) {\n",
              "    const li = document.createElement('li');\n",
              "    li.append(span(file.name, {fontWeight: 'bold'}));\n",
              "    li.append(span(\n",
              "        `(${file.type || 'n/a'}) - ${file.size} bytes, ` +\n",
              "        `last modified: ${\n",
              "            file.lastModifiedDate ? file.lastModifiedDate.toLocaleDateString() :\n",
              "                                    'n/a'} - `));\n",
              "    const percent = span('0% done');\n",
              "    li.appendChild(percent);\n",
              "\n",
              "    outputElement.appendChild(li);\n",
              "\n",
              "    const fileDataPromise = new Promise((resolve) => {\n",
              "      const reader = new FileReader();\n",
              "      reader.onload = (e) => {\n",
              "        resolve(e.target.result);\n",
              "      };\n",
              "      reader.readAsArrayBuffer(file);\n",
              "    });\n",
              "    // Wait for the data to be ready.\n",
              "    let fileData = yield {\n",
              "      promise: fileDataPromise,\n",
              "      response: {\n",
              "        action: 'continue',\n",
              "      }\n",
              "    };\n",
              "\n",
              "    // Use a chunked sending to avoid message size limits. See b/62115660.\n",
              "    let position = 0;\n",
              "    do {\n",
              "      const length = Math.min(fileData.byteLength - position, MAX_PAYLOAD_SIZE);\n",
              "      const chunk = new Uint8Array(fileData, position, length);\n",
              "      position += length;\n",
              "\n",
              "      const base64 = btoa(String.fromCharCode.apply(null, chunk));\n",
              "      yield {\n",
              "        response: {\n",
              "          action: 'append',\n",
              "          file: file.name,\n",
              "          data: base64,\n",
              "        },\n",
              "      };\n",
              "\n",
              "      let percentDone = fileData.byteLength === 0 ?\n",
              "          100 :\n",
              "          Math.round((position / fileData.byteLength) * 100);\n",
              "      percent.textContent = `${percentDone}% done`;\n",
              "\n",
              "    } while (position < fileData.byteLength);\n",
              "  }\n",
              "\n",
              "  // All done.\n",
              "  yield {\n",
              "    response: {\n",
              "      action: 'complete',\n",
              "    }\n",
              "  };\n",
              "}\n",
              "\n",
              "scope.google = scope.google || {};\n",
              "scope.google.colab = scope.google.colab || {};\n",
              "scope.google.colab._files = {\n",
              "  _uploadFiles,\n",
              "  _uploadFilesContinue,\n",
              "};\n",
              "})(self);\n",
              "</script> "
            ]
          },
          "metadata": {}
        },
        {
          "output_type": "stream",
          "name": "stdout",
          "text": [
            "Saving SimpleDAO.sol to SimpleDAO.sol\n"
          ]
        }
      ]
    },
    {
      "cell_type": "code",
      "source": [
        "file_path = list(uploaded.keys())[0]\n",
        "ver = extract_solidity_version(file_path)"
      ],
      "metadata": {
        "colab": {
          "base_uri": "https://localhost:8080/"
        },
        "id": "K1RfOf3eoTDc",
        "outputId": "b7ca7d95-54d8-42fe-bfbc-fe536aa38fa0"
      },
      "execution_count": null,
      "outputs": [
        {
          "output_type": "stream",
          "name": "stdout",
          "text": [
            "0.6.12\n"
          ]
        }
      ]
    },
    {
      "cell_type": "code",
      "source": [
        "!solc-select install {ver}"
      ],
      "metadata": {
        "id": "GhHYx8EasoW_",
        "colab": {
          "base_uri": "https://localhost:8080/"
        },
        "outputId": "542e9b32-c7c6-4dd3-fb8e-d3b77107765f"
      },
      "execution_count": null,
      "outputs": [
        {
          "output_type": "stream",
          "name": "stdout",
          "text": [
            "Installing solc '0.6.12'...\n",
            "Version '0.6.12' installed.\n"
          ]
        }
      ]
    },
    {
      "cell_type": "code",
      "source": [
        "!solc-select use {ver}"
      ],
      "metadata": {
        "colab": {
          "base_uri": "https://localhost:8080/"
        },
        "id": "QlytYqgCswQ6",
        "outputId": "44136bc8-5d7a-4891-f736-a5d64abb7d19"
      },
      "execution_count": null,
      "outputs": [
        {
          "output_type": "stream",
          "name": "stdout",
          "text": [
            "Switched global version to 0.6.12\n"
          ]
        }
      ]
    },
    {
      "cell_type": "code",
      "source": [
        "import os\n",
        "import shutil\n",
        "import time\n",
        "\n",
        "# Step 3: Extract contract name (without .sol extension)\n",
        "contract_name = os.path.splitext(os.path.basename(file_path))[0]"
      ],
      "metadata": {
        "id": "AT2rdfLgsecv"
      },
      "execution_count": null,
      "outputs": []
    },
    {
      "cell_type": "markdown",
      "source": [
        "***CFG construction***"
      ],
      "metadata": {
        "id": "6puOVHsVAsfm"
      }
    },
    {
      "cell_type": "code",
      "source": [
        "# Step 4: Create output folder for the .dot files\n",
        "output_dir = f\"{contract_name}_cfg\"\n",
        "os.makedirs(output_dir, exist_ok=True)"
      ],
      "metadata": {
        "id": "OkrW91rzsll3"
      },
      "execution_count": null,
      "outputs": []
    },
    {
      "cell_type": "code",
      "source": [
        "# Start timer\n",
        "start_time_cfg_slither = time.time()\n",
        "\n",
        "# Step 5: Run Slither to generate CFG in .dot format\n",
        "!slither {file_path} --print cfg\n",
        "\n",
        "# End timer\n",
        "end_time_cfg_slither = time.time()\n",
        "\n",
        "# Calculate elapsed time\n",
        "elapsed_time_cfg_slither = end_time_cfg_slither - start_time_cfg_slither\n",
        "print(f\"Time taken cfg slither: {elapsed_time_cfg_slither:.6f} seconds\")"
      ],
      "metadata": {
        "colab": {
          "base_uri": "https://localhost:8080/"
        },
        "id": "xwANfbqSsvue",
        "outputId": "96910b67-1715-419d-e419-43fbf5026a2c"
      },
      "execution_count": null,
      "outputs": [
        {
          "output_type": "stream",
          "name": "stdout",
          "text": [
            "'solc --version' running\n",
            "'solc SimpleDAO.sol --combined-json abi,ast,bin,bin-runtime,srcmap,srcmap-runtime,userdoc,devdoc,hashes,compact-format --allow-paths .,/content' running\n",
            "Compilation warnings/errors on SimpleDAO.sol:\n",
            "Warning: SPDX license identifier not provided in source file. Before publishing, consider adding a comment containing \"SPDX-License-Identifier: <SPDX-License>\" to each source file. Use \"SPDX-License-Identifier: UNLICENSED\" for non-open-source code. Please see https://spdx.org for more information.\n",
            "--> SimpleDAO.sol\n",
            "\n",
            "\n",
            "INFO:Printers:Export SimpleDAO.sol-SimpleDAO-donate(address).dot\n",
            "Export SimpleDAO.sol-SimpleDAO-withdraw(uint256).dot\n",
            "Export SimpleDAO.sol-SimpleDAO-queryCredit(address).dot\n",
            "\n",
            "INFO:Slither:SimpleDAO.sol analyzed (1 contracts)\n",
            "Time taken cfg slither: 1.309967 seconds\n"
          ]
        }
      ]
    },
    {
      "cell_type": "code",
      "source": [
        "# Step 6: Rename and move each .dot file\n",
        "for filename in os.listdir():\n",
        "    if filename.endswith('.dot') and filename.startswith(file_path):\n",
        "        match = re.match(rf'{re.escape(file_path)}-(.*)-([^\\(]+)\\(.*\\)\\.dot', filename)\n",
        "        if match:\n",
        "            contract_part = match.group(1)\n",
        "            func_name = match.group(2)\n",
        "            new_filename = f\"{contract_part}_{func_name}.dot\"\n",
        "        else:\n",
        "            match = re.match(rf'{re.escape(file_path)}-(.*)-([^\\(]+)\\(\\)\\.dot', filename)\n",
        "            if match:\n",
        "                contract_part = match.group(1)\n",
        "                func_name = match.group(2)\n",
        "                new_filename = f\"{contract_part}_{func_name}.dot\"\n",
        "            else:\n",
        "                print(f\"Skipping unrecognized file: {filename}\")\n",
        "                continue\n",
        "\n",
        "        shutil.move(filename, os.path.join(output_dir, new_filename))\n",
        "\n",
        "print(f\"All renamed .dot files saved in folder: {output_dir}\")"
      ],
      "metadata": {
        "colab": {
          "base_uri": "https://localhost:8080/"
        },
        "id": "jPQsMOJksz7B",
        "outputId": "201ea5ea-15a4-411f-9421-e7a55a58f975"
      },
      "execution_count": null,
      "outputs": [
        {
          "output_type": "stream",
          "name": "stdout",
          "text": [
            "All renamed .dot files saved in folder: SimpleDAO_cfg\n"
          ]
        }
      ]
    },
    {
      "cell_type": "markdown",
      "source": [
        "***CFG_ENCODER***"
      ],
      "metadata": {
        "id": "HI7eVq6G0XPg"
      }
    },
    {
      "cell_type": "code",
      "source": [
        "import re\n",
        "from collections import defaultdict\n",
        "import os\n",
        "\n",
        "\n",
        "\n",
        "def parse_dot_cfg(dot_file_path):\n",
        "    func_name = os.path.splitext(os.path.basename(dot_file_path))[0].split('_', 1)[-1]\n",
        "    cfg_name = f\"CFG_{func_name.capitalize()}\"\n",
        "\n",
        "    nodes = {}\n",
        "    edges = defaultdict(list)\n",
        "\n",
        "    with open(dot_file_path, 'r') as file:\n",
        "        content = file.read()\n",
        "\n",
        "    # Parse nodes\n",
        "    node_blocks = re.findall(r'(\\d+)\\[label=\"Node Type: ([^\\n]+)\\s*\\d*\\n(.*?)\"\\];', content, re.DOTALL)\n",
        "    for node_id_raw, node_type, body in node_blocks:\n",
        "        node_id = f\"N{node_id_raw}\"\n",
        "        body = re.sub(r'\\nIRs:.*', '', body, flags=re.DOTALL)\n",
        "        expr_match = re.search(r'EXPRESSION:\\n(.*?)(?:\\n[A-Z_]+:|\\Z)', body, re.DOTALL)\n",
        "        if expr_match:\n",
        "            expression = expr_match.group(1).strip().replace('\\n', ' ')\n",
        "        else:\n",
        "            expression = node_type.strip()\n",
        "        nodes[node_id] = expression\n",
        "\n",
        "    # Parse edges\n",
        "    for match in re.finditer(r'(\\d+)->(\\d+)(?:\\[label=\"([^\"]+)\"\\])?;', content):\n",
        "        src = f\"N{match.group(1)}\"\n",
        "        dst = f\"N{match.group(2)}\"\n",
        "        label = match.group(3).strip() if match.group(3) else None\n",
        "        edges[src].append((dst, label))\n",
        "\n",
        "    # DFS with visit count to allow 1 unroll\n",
        "    all_paths = []\n",
        "    def dfs(current, path, conditions, visit_count):\n",
        "        if visit_count.get(current, 0) >= 2:\n",
        "            return  # allow at most 1 revisit (2 entries total)\n",
        "        visit_count[current] = visit_count.get(current, 0) + 1\n",
        "\n",
        "        if current not in edges:\n",
        "            all_paths.append((path[:], conditions[:]))\n",
        "        else:\n",
        "            for dst, label in edges[current]:\n",
        "                path.append(dst)\n",
        "                if label:\n",
        "                    conditions.append(f\"{current}={label}\")\n",
        "                dfs(dst, path, conditions, visit_count)\n",
        "                path.pop()\n",
        "                if label:\n",
        "                    conditions.pop()\n",
        "        visit_count[current] -= 1\n",
        "\n",
        "    dfs(\"N0\", [\"N0\"], [], dict())\n",
        "\n",
        "    # Output In Cell In a format\n",
        "    # print(f\"{cfg_name}:\\n\")\n",
        "    # for nid in sorted(nodes.keys(), key=lambda x: int(x[1:])):\n",
        "    #     print(f\"{nid}: {nodes[nid]}\")\n",
        "\n",
        "    # print(f\"\\nPaths in {cfg_name}:\\n\")\n",
        "    # for path, conds in all_paths:\n",
        "    #     cond_str = \" [\" + \", \".join(conds) + \"]\" if conds else \"\"\n",
        "    #     print(\"->\".join(path) + cond_str)\n",
        "\n",
        "     # Collect output in a string\n",
        "    output = [f\"{cfg_name}:\\n\"]\n",
        "    for nid in sorted(nodes.keys(), key=lambda x: int(x[1:])):\n",
        "        output.append(f\"{nid}: {nodes[nid]}\")\n",
        "    output.append(f\"\\nPaths in {cfg_name}:\\n\")\n",
        "    for path, conds in all_paths:\n",
        "        cond_str = \" [\" + \", \".join(conds) + \"]\" if conds else \"\"\n",
        "        output.append(\"->\".join(path) + cond_str)\n",
        "    output.append(\"\\n\" + \"-\" * 40 + \"\\n\")\n",
        "    return \"\\n\".join(output)\n"
      ],
      "metadata": {
        "id": "IjjT6f1z3yr-"
      },
      "execution_count": null,
      "outputs": []
    },
    {
      "cell_type": "code",
      "source": [
        "\n",
        "\n",
        "# Start timer\n",
        "start_time_cfg_encoder = time.time()\n",
        "\n",
        "# ---------- Run on all .dot files in a folder ----------\n",
        "\n",
        "def process_all_dot_files(dot_folder_path):\n",
        "    combined_output = []\n",
        "\n",
        "    dot_files = sorted([f for f in os.listdir(dot_folder_path) if f.endswith(\".dot\")])\n",
        "    if not dot_files:\n",
        "        print(\" No .dot files found in the folder.\")\n",
        "        return\n",
        "\n",
        "    # smart_contract_name = dot_files[0].split('_')[0]\n",
        "    output_txt_path = f\"{contract_name}_CFGs.txt\"\n",
        "\n",
        "    for filename in dot_files:\n",
        "        full_path = os.path.join(dot_folder_path, filename)\n",
        "        print(f\"Processing: {filename}\")\n",
        "        result = parse_dot_cfg(full_path)\n",
        "        combined_output.append(result)\n",
        "\n",
        "    with open(output_txt_path, \"w\") as f:\n",
        "        f.write(\"\\n\".join(combined_output))\n",
        "\n",
        "    print(f\"\\n All CFGs saved to: {output_txt_path}\")\n",
        "\n",
        "\n",
        "# Replace with your actual folder path\n",
        "dot_folder_path = f\"{contract_name}_cfg\"  # folder containing your .dot files\n",
        "process_all_dot_files(dot_folder_path)\n",
        "\n",
        "# End timer\n",
        "end_time_cfg_encoder = time.time()\n",
        "\n",
        "# Calculate elapsed time\n",
        "elapsed_time_cfg_encoder = end_time_cfg_encoder - start_time_cfg_encoder\n",
        "print(f\"Time taken cfg Encoder: {elapsed_time_cfg_encoder:.6f} seconds\")"
      ],
      "metadata": {
        "colab": {
          "base_uri": "https://localhost:8080/"
        },
        "id": "uyczdvzh_dTU",
        "outputId": "e6070f98-e1ce-4b8e-d486-01f7b7c9646f"
      },
      "execution_count": null,
      "outputs": [
        {
          "output_type": "stream",
          "name": "stdout",
          "text": [
            "Processing: SimpleDAO_donate.dot\n",
            "Processing: SimpleDAO_queryCredit.dot\n",
            "Processing: SimpleDAO_withdraw.dot\n",
            "\n",
            " All CFGs saved to: SimpleDAO_CFGs.txt\n",
            "Time taken cfg Encoder: 0.001885 seconds\n"
          ]
        }
      ]
    },
    {
      "cell_type": "markdown",
      "source": [
        "***CG Construction***"
      ],
      "metadata": {
        "id": "-nO6wVCLBRgO"
      }
    },
    {
      "cell_type": "code",
      "source": [
        "# Create output folder for the .dot files\n",
        "output_dir = f\"{contract_name}_cg\"\n",
        "os.makedirs(output_dir, exist_ok=True)"
      ],
      "metadata": {
        "id": "dWNiib4ZBQmF"
      },
      "execution_count": null,
      "outputs": []
    },
    {
      "cell_type": "code",
      "source": [
        "# Start timer\n",
        "start_time_cg_slither = time.time()\n",
        "\n",
        "\n",
        "# Run Slither to generate CG in .dot format\n",
        "!slither {file_path} --print call-graph\n",
        "\n",
        "# End timer\n",
        "end_time_cg_slither = time.time()\n",
        "# Calculate elapsed time\n",
        "elapsed_time_cg_slither = end_time_cg_slither - start_time_cg_slither\n",
        "print(f\"Time taken cg slither: {elapsed_time_cg_slither:.6f} seconds\")"
      ],
      "metadata": {
        "colab": {
          "base_uri": "https://localhost:8080/"
        },
        "id": "2YymtGSOBpJF",
        "outputId": "64718252-9170-4f6d-a712-08ead516efad"
      },
      "execution_count": null,
      "outputs": [
        {
          "output_type": "stream",
          "name": "stdout",
          "text": [
            "'solc --version' running\n",
            "'solc SimpleDAO.sol --combined-json abi,ast,bin,bin-runtime,srcmap,srcmap-runtime,userdoc,devdoc,hashes,compact-format --allow-paths .,/content' running\n",
            "Compilation warnings/errors on SimpleDAO.sol:\n",
            "Warning: SPDX license identifier not provided in source file. Before publishing, consider adding a comment containing \"SPDX-License-Identifier: <SPDX-License>\" to each source file. Use \"SPDX-License-Identifier: UNLICENSED\" for non-open-source code. Please see https://spdx.org for more information.\n",
            "--> SimpleDAO.sol\n",
            "\n",
            "\n",
            "INFO:Printers:Call Graph: SimpleDAO.sol.all_contracts.call-graph.dot\n",
            "Call Graph: SimpleDAO.sol.SimpleDAO.call-graph.dot\n",
            "\n",
            "INFO:Slither:SimpleDAO.sol analyzed (1 contracts)\n",
            "Time taken cg slither: 0.905950 seconds\n"
          ]
        }
      ]
    },
    {
      "cell_type": "code",
      "source": [
        "# Step: Rename and move each .dot file\n",
        "for filename in os.listdir():\n",
        "    if filename.endswith(\"call-graph.dot\"):\n",
        "        # Example filename: SimpleDAO.sol.SimpleDAO.call-graph.dot\n",
        "        match = re.match(r\"(.+)\\.sol\\.(.+)\\.call-graph\\.dot\", filename)\n",
        "        if match:\n",
        "            contract_name = match.group(1)\n",
        "            part = match.group(2)\n",
        "\n",
        "            if part == \"all_contracts\":\n",
        "                new_filename = f\"{contract_name}_All_cg.dot\"\n",
        "            else:\n",
        "                new_filename = f\"{part}_cg.dot\"\n",
        "\n",
        "            shutil.move(filename, os.path.join(output_dir, new_filename))\n",
        "            print(f\" Moved: {filename} ➝ {new_filename}\")\n",
        "        else:\n",
        "            print(f\" Skipping unrecognized file: {filename}\")\n",
        "\n",
        "print(f\"\\n All renamed .dot files saved in folder: {output_dir}\")"
      ],
      "metadata": {
        "colab": {
          "base_uri": "https://localhost:8080/"
        },
        "id": "dMiGeiRTDiC8",
        "outputId": "615a978d-5b81-486e-dbe9-7107b43495b5"
      },
      "execution_count": null,
      "outputs": [
        {
          "output_type": "stream",
          "name": "stdout",
          "text": [
            " Moved: SimpleDAO.sol.SimpleDAO.call-graph.dot ➝ SimpleDAO_cg.dot\n",
            " Moved: SimpleDAO.sol.all_contracts.call-graph.dot ➝ SimpleDAO_All_cg.dot\n",
            "\n",
            " All renamed .dot files saved in folder: SimpleDAO_cg\n"
          ]
        }
      ]
    },
    {
      "cell_type": "markdown",
      "source": [
        "***CG_Encoder***"
      ],
      "metadata": {
        "id": "8VzP3qEqH_hh"
      }
    },
    {
      "cell_type": "code",
      "source": [
        "import re\n",
        "from collections import defaultdict\n",
        "\n",
        "def parse_call_graph_dot(dot_file_path):\n",
        "    with open(dot_file_path, 'r') as f:\n",
        "        content = f.read()\n",
        "\n",
        "    # Preprocess to split everything into clean chunks (contract sections, edges, etc.)\n",
        "    contract_sections = re.findall(r'subgraph cluster_\\d+_([^\\s{]+)\\s*{(.*?)}', content, re.DOTALL)\n",
        "    edges = re.findall(r'\"([^\"]+)\"\\s*->\\s*\"([^\"]+)\"', content)\n",
        "    unlabeled_solidity_nodes = re.findall(r'subgraph cluster_[^}]*label = \"\\[Solidity\\]\"\\s*{([^}]*)}', content, re.DOTALL)\n",
        "\n",
        "    contract_map = defaultdict(list)        # contract -> list of node_ids\n",
        "    node_label_map = dict()                 # node_id -> function label\n",
        "    func_to_contract = dict()               # node_id -> contract name\n",
        "\n",
        "    # Parse each contract subgraph\n",
        "    for contract_name, body in contract_sections:\n",
        "        node_matches = re.findall(r'\"([^\"]+)\"\\s*\\[label=\"([^\"]+)\"\\]', body)\n",
        "        for node_id, label in node_matches:\n",
        "            contract_map[contract_name].append(node_id)\n",
        "            node_label_map[node_id] = label\n",
        "            func_to_contract[node_id] = contract_name\n",
        "\n",
        "    # Handle Solidity nodes (they have no labels)\n",
        "    for block in unlabeled_solidity_nodes:\n",
        "        for line in block.strip().splitlines():\n",
        "            match = re.match(r'\"([^\"]+)\"', line.strip())\n",
        "            if match:\n",
        "                node_id = match.group(1)\n",
        "                contract_map['[Solidity]'].append(node_id)\n",
        "                node_label_map[node_id] = node_id\n",
        "                func_to_contract[node_id] = '[Solidity]'\n",
        "\n",
        "    # Build call edges\n",
        "    calls_map = defaultdict(list)\n",
        "    for caller, callee in edges:\n",
        "        calls_map[caller].append(callee)\n",
        "\n",
        "    # Final output grouped by contracts\n",
        "    output = \"\"\n",
        "    for contract in contract_map:\n",
        "        output += f\"\\nCG_{contract}:\\n\\n\"\n",
        "        for node in contract_map[contract]:\n",
        "            caller_label = node_label_map.get(node, node)\n",
        "            callees = calls_map.get(node, [])\n",
        "            if not callees:\n",
        "                output += f\"CG({caller_label}, )\\n\"\n",
        "            else:\n",
        "                for callee in callees:\n",
        "                    callee_label = node_label_map.get(callee, callee)\n",
        "                    callee_contract = func_to_contract.get(callee, \"\")\n",
        "                    tag = \" [solidity]\" if callee_contract == \"[Solidity]\" else \"\"\n",
        "                    output += f\"CG({caller_label}, {callee_label}){tag}\\n\"\n",
        "\n",
        "    return output.strip()\n"
      ],
      "metadata": {
        "id": "1S0gaFn6ElRu"
      },
      "execution_count": null,
      "outputs": []
    },
    {
      "cell_type": "code",
      "source": [
        "# Start timer\n",
        "start_time_cg_encoder = time.time()\n",
        "\n",
        "dot_path = f\"{contract_name}_cg/{contract_name}_All_cg.dot\"  # your actual .dot path\n",
        "result = parse_call_graph_dot(dot_path)\n",
        "output_path = f\"{contract_name}_CG.txt\"\n",
        "with open(output_path, \"w\") as f:\n",
        "    f.write(result)\n",
        "\n",
        "print(result)\n",
        "print()\n",
        "print(f\"Call graph output saved to: {output_path}\")\n",
        "\n",
        "# END timer\n",
        "end_time_cg_encoder = time.time()\n",
        "\n",
        "# Calculate elapsed time\n",
        "elapsed_time_cg_encoder = end_time_cg_encoder - start_time_cg_encoder\n",
        "print(f\"Time taken cg Encoder: {elapsed_time_cg_encoder:.6f} seconds\")"
      ],
      "metadata": {
        "colab": {
          "base_uri": "https://localhost:8080/"
        },
        "id": "sKi2ZjH7-dXD",
        "outputId": "2fc30a18-0cec-42ff-d2a0-c0c77f39ee32"
      },
      "execution_count": null,
      "outputs": [
        {
          "output_type": "stream",
          "name": "stdout",
          "text": [
            "CG_SimpleDAO:\n",
            "\n",
            "CG(queryCredit, )\n",
            "CG(donate, )\n",
            "CG(withdraw, require(bool,string))\n",
            "\n",
            "Call graph output saved to: SimpleDAO_CG.txt\n",
            "Time taken cg Encoder: 0.001288 seconds\n"
          ]
        }
      ]
    },
    {
      "cell_type": "markdown",
      "source": [
        "# ***Data Dependency Construction***"
      ],
      "metadata": {
        "id": "7wQzTTCSO8lL"
      }
    },
    {
      "cell_type": "code",
      "source": [
        "# Create output file for the storing of DD information\n",
        "output_file = f\"{contract_name}_dd.txt\"\n"
      ],
      "metadata": {
        "id": "glKY_TDbQ76z"
      },
      "execution_count": null,
      "outputs": []
    },
    {
      "cell_type": "code",
      "source": [
        "\n",
        "# Start timer\n",
        "start_time_dd_slither = time.time()\n",
        "\n",
        "# Run Slither and capture stdout + stderr\n",
        "!slither {file_path} --print data-dependency > {output_file} 2>&1\n",
        "\n",
        "# End timer\n",
        "end_time_dd_slither = time.time()\n",
        "# Calculate elapsed time\n",
        "elapsed_time_dd_slither = end_time_dd_slither - start_time_dd_slither\n",
        "print(f\"Time taken dd slither: {elapsed_time_cg_slither:.6f} seconds\")\n"
      ],
      "metadata": {
        "id": "Q-BfIwmKRQkz",
        "colab": {
          "base_uri": "https://localhost:8080/"
        },
        "outputId": "caac55bc-c4b2-4977-dc0a-855e81766fca"
      },
      "execution_count": null,
      "outputs": [
        {
          "output_type": "stream",
          "name": "stdout",
          "text": [
            "Time taken dd slither: 0.905950 seconds\n"
          ]
        }
      ]
    },
    {
      "cell_type": "markdown",
      "source": [
        "***Data Dependency Encoder***"
      ],
      "metadata": {
        "id": "DlNYZYLKxxJa"
      }
    },
    {
      "cell_type": "code",
      "source": [
        "import re\n",
        "from collections import defaultdict\n",
        "\n",
        "# Start timer\n",
        "start_time_dd_encoder = time.time()\n",
        "\n",
        "\n",
        "# Step 2: Read the captured output\n",
        "with open(output_file, \"r\") as f:\n",
        "    output = f.read()\n",
        "\n",
        "# Step 3: Parse and clean\n",
        "dd_data = defaultdict(dict)\n",
        "current_scope = \"\"\n",
        "\n",
        "lines = output.strip().splitlines()\n",
        "\n",
        "for line in lines:\n",
        "    line = line.strip()\n",
        "\n",
        "    # Detect contract header\n",
        "    contract_match = re.match(r'^Contract\\s+(\\w+)', line)\n",
        "    if contract_match:\n",
        "        current_scope = contract_match.group(1)\n",
        "        continue\n",
        "\n",
        "    # Detect function header\n",
        "    func_match = re.match(r'^Function\\s+(\\w+)\\(.*?\\)', line)\n",
        "    if func_match:\n",
        "        current_scope = func_match.group(1)\n",
        "        continue\n",
        "\n",
        "    # Skip headers\n",
        "    if 'Variable' in line or 'Dependencies' in line or set(line) <= set('+-|'):\n",
        "        continue\n",
        "\n",
        "    # Parse variable-dependency rows\n",
        "    if '|' in line:\n",
        "        parts = [p.strip() for p in line.strip('|').split('|')]\n",
        "        if len(parts) == 2:\n",
        "            var, deps = parts\n",
        "            try:\n",
        "                dep_list = eval(deps) if deps and deps != '[]' else []\n",
        "            except:\n",
        "                dep_list = []\n",
        "            dd_data[current_scope][var] = dep_list\n",
        "\n",
        "# Step 4: Prepare the output string\n",
        "output_str = \"\"\n",
        "for scope, vars in dd_data.items():\n",
        "    print(f\"DD_{scope}:\")\n",
        "    output_str += f\"DD_{scope}:\\n\"\n",
        "    for var, deps in vars.items():\n",
        "        dep_str = ', '.join(deps) if deps else '-'\n",
        "        output_str += f\"  {var}: {dep_str}\\n\"\n",
        "        print(f\"  {var}: {dep_str}\")\n",
        "    print()\n",
        "    output_str += \"\\n\"\n",
        "\n",
        "# Step 5: Save to file\n",
        "filename = f\"{contract_name}_DD_Encoded.txt\"\n",
        "with open(filename, \"w\") as f:\n",
        "    f.write(output_str)\n",
        "\n",
        "print(f\"DD output saved to: {filename}\")\n",
        "\n",
        "\n",
        "# End timer\n",
        "end_time_dd_encoder = time.time()\n",
        "\n",
        "# Calculate elapsed time\n",
        "elapsed_time_dd_encoder = end_time_dd_encoder - start_time_dd_encoder\n",
        "print(f\"Time taken dd Encoder: {elapsed_time_dd_encoder:.6f} seconds\")\n"
      ],
      "metadata": {
        "colab": {
          "base_uri": "https://localhost:8080/"
        },
        "id": "gLoQ170ZO8EG",
        "outputId": "23e0eda4-2fb1-4f1b-acc6-4ae3bfe42a9a"
      },
      "execution_count": null,
      "outputs": [
        {
          "output_type": "stream",
          "name": "stdout",
          "text": [
            "DD_SimpleDAO:\n",
            "  credit: amount, credit, msg.value\n",
            "\n",
            "DD_donate:\n",
            "  to: -\n",
            "  SimpleDAO.credit: credit, msg.value\n",
            "\n",
            "DD_withdraw:\n",
            "  amount: -\n",
            "  sent: TUPLE_0, amount, msg.sender\n",
            "  SimpleDAO.credit: amount, credit\n",
            "\n",
            "DD_queryCredit:\n",
            "  to: -\n",
            "  : -\n",
            "  SimpleDAO.credit: credit\n",
            "\n",
            "DD output saved to: SimpleDAO_DD_Encoded.txt\n",
            "Time taken dd Encoder: 0.002903 seconds\n"
          ]
        }
      ]
    }
  ]
}